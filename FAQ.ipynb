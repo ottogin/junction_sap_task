{
 "cells": [
  {
   "cell_type": "code",
   "execution_count": 15,
   "metadata": {},
   "outputs": [
    {
     "name": "stderr",
     "output_type": "stream",
     "text": [
      "/anaconda3/envs/ds_basic/lib/python3.6/importlib/_bootstrap.py:219: RuntimeWarning: numpy.dtype size changed, may indicate binary incompatibility. Expected 96, got 88\n",
      "  return f(*args, **kwds)\n"
     ]
    }
   ],
   "source": [
    "import numpy as np\n",
    "import fasttext\n",
    "\n",
    "from nltk import WordPunctTokenizer\n",
    "from sklearn.feature_extraction.text import TfidfVectorizer\n",
    "from gensim.models import KeyedVectors"
   ]
  },
  {
   "cell_type": "code",
   "execution_count": 13,
   "metadata": {},
   "outputs": [],
   "source": [
    "questions = [\n",
    "    {\n",
    "        'question': 'What is the weather today?',\n",
    "        'paraphrases': [\n",
    "            'I want to know the today\\'s weather!',\n",
    "            'Tell me the weather for today, please.'\n",
    "        ],\n",
    "        'action': lambda: 'weather',\n",
    "        'embedding': None,\n",
    "    },\n",
    "    {\n",
    "        'question': 'How old are you?',\n",
    "        'paraphrases': [\n",
    "            'What is your age?',\n",
    "            'Tell me your age, please.'\n",
    "        ],\n",
    "        'action': lambda: 'age',\n",
    "        'embedding': None,\n",
    "    },\n",
    "    {\n",
    "        'question': 'Hello, I want to change my phone tariff',\n",
    "        'paraphrases': [\n",
    "            'My phone tariff is not good enough for me',\n",
    "            'I don\\'t like my current tariff'\n",
    "        ],\n",
    "        'action': lambda: 'tariff',\n",
    "        'embedding': None,\n",
    "    },\n",
    "    {\n",
    "        'question': 'Hi, I want to order a restaurant',\n",
    "        'paraphrases': [\n",
    "            'Hello, I want to order a taxi',\n",
    "            'I would want to book a room'\n",
    "        ],\n",
    "        'action': lambda: 'ordering',\n",
    "        'embedding': None,\n",
    "    },\n",
    "]"
   ]
  },
  {
   "cell_type": "code",
   "execution_count": 9,
   "metadata": {},
   "outputs": [
    {
     "ename": "Exception",
     "evalue": "fastText: Cannot load crawl-300d-2M-subword/crawl-300d-2M-subword.bin due to C++ extension failed to allocate the memory",
     "traceback": [
      "\u001b[0;31m---------------------------------------------------------------------------\u001b[0m",
      "\u001b[0;31mRuntimeError\u001b[0m                              Traceback (most recent call last)",
      "\u001b[0;32mfasttext/fasttext.pyx\u001b[0m in \u001b[0;36mfasttext.fasttext.load_model\u001b[0;34m()\u001b[0m\n",
      "\u001b[0;31mRuntimeError\u001b[0m: vector",
      "\nDuring handling of the above exception, another exception occurred:\n",
      "\u001b[0;31mException\u001b[0m                                 Traceback (most recent call last)",
      "\u001b[0;32m<ipython-input-9-960836b74f99>\u001b[0m in \u001b[0;36m<module>\u001b[0;34m()\u001b[0m\n\u001b[0;32m----> 1\u001b[0;31m \u001b[0mmodel\u001b[0m \u001b[0;34m=\u001b[0m \u001b[0mload_model\u001b[0m\u001b[0;34m(\u001b[0m\u001b[0;34m'crawl-300d-2M-subword/crawl-300d-2M-subword.bin'\u001b[0m\u001b[0;34m)\u001b[0m\u001b[0;34m\u001b[0m\u001b[0m\n\u001b[0m",
      "\u001b[0;32mfasttext/fasttext.pyx\u001b[0m in \u001b[0;36mfasttext.fasttext.load_model\u001b[0;34m()\u001b[0m\n",
      "\u001b[0;31mException\u001b[0m: fastText: Cannot load crawl-300d-2M-subword/crawl-300d-2M-subword.bin due to C++ extension failed to allocate the memory"
     ],
     "output_type": "error"
    }
   ],
   "source": [
    "model = KeyedVectors.load_word2vec_format('wiki-news-300d-1M.vec')"
   ]
  },
  {
   "cell_type": "code",
   "execution_count": 9,
   "metadata": {},
   "outputs": [],
   "source": [
    "def tokenize(text):\n",
    "    tokenizer = WordPunctTokenizer()\n",
    "    return list(map(str.lower, tokenizer.tokenize(text)))"
   ]
  },
  {
   "cell_type": "code",
   "execution_count": 10,
   "metadata": {},
   "outputs": [],
   "source": [
    "def preprocess(text):\n",
    "    return ' '.join(tokenize(text))"
   ]
  },
  {
   "cell_type": "code",
   "execution_count": 16,
   "metadata": {},
   "outputs": [],
   "source": [
    "def make_vectorizer(questions):\n",
    "    texts = [item\n",
    "             for question in questions\n",
    "             for item in (question['question'], *question['paraphrases'])]\n",
    "    vectorizer = TfidfVectorizer(stop_words='english', tokenizer=tokenize).fit(texts)\n",
    "    return vectorizer"
   ]
  },
  {
   "cell_type": "code",
   "execution_count": 17,
   "metadata": {},
   "outputs": [],
   "source": [
    "vectorizer = make_vectorizer(questions)"
   ]
  },
  {
   "cell_type": "code",
   "execution_count": 18,
   "metadata": {},
   "outputs": [],
   "source": [
    "def transform(vectorizer, text):\n",
    "    text = preprocess(text)\n",
    "    return np.array(vectorizer.transform([text]).todense())"
   ]
  },
  {
   "cell_type": "code",
   "execution_count": 19,
   "metadata": {},
   "outputs": [],
   "source": [
    "def get_word_weights(vectorizer, text):\n",
    "    norm = transform(vectorizer, text)\n",
    "    word2weight = {word: weight for word, weight in zip(vectorizer.get_feature_names(), norm.ravel())}\n",
    "    return np.array([1 / len(text.split())] * len(text.split()))"
   ]
  },
  {
   "cell_type": "code",
   "execution_count": 20,
   "metadata": {},
   "outputs": [
    {
     "data": {
      "text/plain": [
       "array([0.125, 0.125, 0.125, 0.125, 0.125, 0.125, 0.125, 0.125])"
      ]
     },
     "execution_count": 20,
     "metadata": {},
     "output_type": "execute_result"
    }
   ],
   "source": [
    "get_word_weights(vectorizer, preprocess('Hello, I want to change my phone'))"
   ]
  },
  {
   "cell_type": "code",
   "execution_count": 47,
   "metadata": {},
   "outputs": [],
   "source": [
    "def get_embedding(vectorizer, model, text):\n",
    "    text = preprocess(text)\n",
    "    weights = get_word_weights(vectorizer, text)\n",
    "    embeddings = np.array([model.get_vector(word) for word in text.split()])\n",
    "    return np.matmul(embeddings.T, weights).reshape(1, -1)"
   ]
  },
  {
   "cell_type": "code",
   "execution_count": 48,
   "metadata": {},
   "outputs": [],
   "source": [
    "vec1 = get_embedding(vectorizer, model, 'Hello I want to change my phone')\n",
    "\n",
    "vec2 = get_embedding(vectorizer, model, 'How can I change my phone')\n",
    "\n",
    "vec3 = get_embedding(vectorizer, model, 'I want to break free')"
   ]
  },
  {
   "cell_type": "code",
   "execution_count": 49,
   "metadata": {},
   "outputs": [],
   "source": [
    "from sklearn.metrics.pairwise import cosine_similarity"
   ]
  },
  {
   "cell_type": "code",
   "execution_count": 54,
   "metadata": {},
   "outputs": [
    {
     "data": {
      "text/plain": [
       "array([[0.93526925]])"
      ]
     },
     "execution_count": 54,
     "metadata": {},
     "output_type": "execute_result"
    }
   ],
   "source": [
    "cosine_similarity(vec1,  vec2)"
   ]
  },
  {
   "cell_type": "code",
   "execution_count": 55,
   "metadata": {},
   "outputs": [
    {
     "data": {
      "text/plain": [
       "array([[0.8769267]])"
      ]
     },
     "execution_count": 55,
     "metadata": {},
     "output_type": "execute_result"
    }
   ],
   "source": [
    "cosine_similarity(vec1,  vec3)"
   ]
  },
  {
   "cell_type": "code",
   "execution_count": 66,
   "metadata": {},
   "outputs": [],
   "source": [
    "def get_top_answer(vectorizer, model, questions, input_question):\n",
    "    scores = []\n",
    "    emb = get_embedding(vectorizer, model, input_question)\n",
    "    for question in questions:\n",
    "        score = cosine_similarity(emb, get_embedding(vectorizer, model, question['question']))\n",
    "        score = max(score, *[cosine_similarity(emb, get_embedding(vectorizer, model, paraphrase))\n",
    "                             for paraphrase in question['paraphrases']])\n",
    "        scores.append(score)\n",
    "    return questions[np.argmax(scores)]['action']"
   ]
  },
  {
   "cell_type": "code",
   "execution_count": 69,
   "metadata": {},
   "outputs": [
    {
     "data": {
      "text/plain": [
       "'weather'"
      ]
     },
     "execution_count": 69,
     "metadata": {},
     "output_type": "execute_result"
    }
   ],
   "source": [
    "get_top_answer(vectorizer, model, questions, 'Hi, could you tell me the weather forecast for today?')()"
   ]
  },
  {
   "cell_type": "code",
   "execution_count": 70,
   "metadata": {},
   "outputs": [
    {
     "data": {
      "text/plain": [
       "'age'"
      ]
     },
     "execution_count": 70,
     "metadata": {},
     "output_type": "execute_result"
    }
   ],
   "source": [
    "get_top_answer(vectorizer, model, questions, 'Are you a young person?')()"
   ]
  },
  {
   "cell_type": "code",
   "execution_count": 72,
   "metadata": {},
   "outputs": [
    {
     "data": {
      "text/plain": [
       "'tariff'"
      ]
     },
     "execution_count": 72,
     "metadata": {},
     "output_type": "execute_result"
    }
   ],
   "source": [
    "get_top_answer(vectorizer, model, questions, 'Hello, are you a phone company? Just want to change my current services')()"
   ]
  },
  {
   "cell_type": "code",
   "execution_count": null,
   "metadata": {},
   "outputs": [],
   "source": [
    ""
   ]
  }
 ],
 "metadata": {
  "kernelspec": {
   "display_name": "Python 3",
   "language": "python",
   "name": "python3"
  },
  "language_info": {
   "codemirror_mode": {
    "name": "ipython",
    "version": 3.0
   },
   "file_extension": ".py",
   "mimetype": "text/x-python",
   "name": "python",
   "nbconvert_exporter": "python",
   "pygments_lexer": "ipython3",
   "version": "3.6.4"
  }
 },
 "nbformat": 4,
 "nbformat_minor": 0
}