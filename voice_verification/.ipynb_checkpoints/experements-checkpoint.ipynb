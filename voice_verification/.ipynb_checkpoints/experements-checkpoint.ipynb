{
 "cells": [
  {
   "cell_type": "code",
   "execution_count": 4,
   "metadata": {
    "ExecuteTime": {
     "end_time": "2018-11-24T10:34:56.908332Z",
     "start_time": "2018-11-24T10:34:56.738515Z"
    }
   },
   "outputs": [],
   "source": [
    "from __future__ import print_function\n",
    "import time\n",
    "import deepaffects\n",
    "from deepaffects.rest import ApiException\n",
    "from pprint import pprint\n",
    "import requests\n",
    "import json"
   ]
  },
  {
   "cell_type": "code",
   "execution_count": 5,
   "metadata": {
    "ExecuteTime": {
     "end_time": "2018-11-24T10:34:57.005122Z",
     "start_time": "2018-11-24T10:34:57.002604Z"
    }
   },
   "outputs": [],
   "source": [
    "deepaffects.configuration.api_key['apikey'] = 'MfKtVsGBRnYrjpN0LUO8lHAPwwOpHKYD'"
   ]
  },
  {
   "cell_type": "code",
   "execution_count": 6,
   "metadata": {
    "ExecuteTime": {
     "end_time": "2018-11-24T10:34:57.195600Z",
     "start_time": "2018-11-24T10:34:57.191005Z"
    }
   },
   "outputs": [],
   "source": [
    "#deleat person\n",
    "def del_person(identifier):\n",
    "    URL = 'https://proxy.api.deepaffects.com/audio/generic/api/v1/sync/diarization/delete'\n",
    "    payload = {\"speakerId\": identifier}\n",
    "\n",
    "    headers = {\n",
    "        'content-type': 'application/json'\n",
    "    }\n",
    "    params = {\n",
    "        'apikey': deepaffects.configuration.api_key['apikey']\n",
    "    }\n",
    "\n",
    "    r = requests.post(URL, data=json.dumps(payload), headers = headers, params = params)\n",
    "    return r"
   ]
  },
  {
   "cell_type": "code",
   "execution_count": 7,
   "metadata": {
    "ExecuteTime": {
     "end_time": "2018-11-24T11:06:11.967493Z",
     "start_time": "2018-11-24T11:06:11.963377Z"
    }
   },
   "outputs": [],
   "source": [
    "#get all person\n",
    "def get_all_users():\n",
    "    \"\"\"\n",
    "        RETURN:\n",
    "            list of users ids in the system\n",
    "    \"\"\"\n",
    "    URL = 'https://proxy.api.deepaffects.com/audio/generic/api/v1/sync/diarization/get_enrolled_speakers'\n",
    "    params = {\n",
    "        'apikey': deepaffects.configuration.api_key['apikey']\n",
    "    }\n",
    "\n",
    "    r = requests.get(URL, params = params)\n",
    "    all_users = json.loads(r.content)['enrolled_speaker_ids']\n",
    "    return [x['speaker_id'] for x in all_users]"
   ]
  },
  {
   "cell_type": "code",
   "execution_count": 8,
   "metadata": {
    "ExecuteTime": {
     "end_time": "2018-11-24T12:25:42.683437Z",
     "start_time": "2018-11-24T12:25:42.670715Z"
    }
   },
   "outputs": [],
   "source": [
    "def define_emotion_from_audio(path_to_audio):\n",
    "    body = deepaffects.Audio.from_file(file_name=path_to_audio)\n",
    "\n",
    "    URL = 'https://proxy.api.deepaffects.com/audio/generic/api/v2/sync/recognise_emotion'\n",
    "    payload = {\"content\": body.content, \n",
    "               \"sampleRate\": body.sample_rate, \n",
    "               \"encoding\": body.encoding, \n",
    "               \"languageCode\": body.language_code}\n",
    "\n",
    "    headers = {\n",
    "        'content-type': 'application/json'\n",
    "    }\n",
    "    params = {\n",
    "        'apikey': deepaffects.configuration.api_key['apikey']\n",
    "    }\n",
    "\n",
    "    r = requests.post(URL, data=json.dumps(payload), headers = headers, params = params)\n",
    "    all_segments = json.loads(r.content)\n",
    "    \n",
    "    all_duration = 0\n",
    "    max_dur = 0\n",
    "    spoken_emotion = ''\n",
    "    for seg in all_segments:\n",
    "        cur_dur = seg['end'] - seg['start']\n",
    "        all_duration += cur_dur\n",
    "        if cur_dur > max_dur:\n",
    "            max_dur = cur_dur\n",
    "            spoken_emotion = seg['emotion']\n",
    "    confidence = max_dur/all_duration\n",
    "    return spoken_emotion, confidence, all_segments"
   ]
  },
  {
   "cell_type": "code",
   "execution_count": 9,
   "metadata": {
    "ExecuteTime": {
     "end_time": "2018-11-24T13:37:38.031106Z",
     "start_time": "2018-11-24T13:37:38.022357Z"
    }
   },
   "outputs": [],
   "source": [
    "def define_emotion_from_text(text):\n",
    "    URL = 'https://proxy.api.deepaffects.com/text/generic/api/latest/sync/text_recognise_emotion'\n",
    "    payload = {\n",
    "      \"content\": text\n",
    "    }\n",
    "\n",
    "    headers = {\n",
    "        'content-type': 'application/json'\n",
    "    }\n",
    "    params = {\n",
    "        'apikey': deepaffects.configuration.api_key['apikey']\n",
    "    }\n",
    "\n",
    "    r = requests.post(URL, data=json.dumps(payload), headers = headers, params = params)\n",
    "\n",
    "    r.content\n",
    "    d = json.loads(r.content)\n",
    "\n",
    "    max_val = 0\n",
    "    mood = ''\n",
    "    for i,j in d['response'].items():\n",
    "        if j > max_val:\n",
    "            max_val = j\n",
    "            mood = i\n",
    "    return mood"
   ]
  },
  {
   "cell_type": "code",
   "execution_count": 10,
   "metadata": {
    "ExecuteTime": {
     "end_time": "2018-11-24T14:16:58.954571Z",
     "start_time": "2018-11-24T14:16:58.940464Z"
    }
   },
   "outputs": [],
   "source": [
    "#adding person\n",
    "def add_user(paths_to_3_audios, identifier):\n",
    "    \"\"\"\n",
    "    Adds user. \n",
    "    Example: add_user([PATH_1, PATH_2, PATH_3], 'user_id_1')\n",
    "    \n",
    "    RETURN:\n",
    "        list of requests statuses\n",
    "    \"\"\"\n",
    "    responds = []\n",
    "    for path_to_audio in paths_to_3_audios:\n",
    "        body = deepaffects.Audio.from_file(file_name=path_to_audio)\n",
    "        URL = 'https://proxy.api.deepaffects.com/audio/generic/api/v1/sync/diarization/enroll'\n",
    "        payload = {\"content\": body.content, \n",
    "                   \"sampleRate\": body.sample_rate, \n",
    "                   \"encoding\": body.encoding, \n",
    "                   \"languageCode\": body.language_code, \n",
    "                   \"speakerId\": identifier}\n",
    "\n",
    "        headers = {\n",
    "            'content-type': 'application/json'\n",
    "        }\n",
    "        params = {\n",
    "            'apikey': deepaffects.configuration.api_key['apikey']\n",
    "        }\n",
    "\n",
    "        r = requests.post(URL, data=json.dumps(payload), headers = headers, params = params)\n",
    "        responds.append(r)\n",
    "        \n",
    "    for path_to_audio in paths_to_3_audios[:1]:\n",
    "        body = deepaffects.Audio.from_file(file_name=path_to_audio)\n",
    "        URL = 'https://proxy.api.deepaffects.com/audio/generic/api/v1/sync/diarization/enroll'\n",
    "        payload = {\"content\": body.content, \n",
    "                   \"sampleRate\": body.sample_rate, \n",
    "                   \"encoding\": body.encoding, \n",
    "                   \"languageCode\": body.language_code, \n",
    "                   \"speakerId\": identifier}\n",
    "\n",
    "        headers = {\n",
    "            'content-type': 'application/json'\n",
    "        }\n",
    "        params = {\n",
    "            'apikey': deepaffects.configuration.api_key['apikey']\n",
    "        }\n",
    "\n",
    "        r = requests.post(URL, data=json.dumps(payload), headers = headers, params = params)\n",
    "        responds.append(r)\n",
    "    return responds"
   ]
  },
  {
   "cell_type": "code",
   "execution_count": 11,
   "metadata": {
    "ExecuteTime": {
     "end_time": "2018-11-24T14:17:02.917175Z",
     "start_time": "2018-11-24T14:17:01.939139Z"
    }
   },
   "outputs": [],
   "source": [
    "def identify(path_to_audio, users_ids_to_identify = get_all_users()):\n",
    "    \"\"\"\n",
    "    Args:\n",
    "        path_to_audio: path to the audio to identify\n",
    "        users_ids_to_identify: we want to identify one of the these users\n",
    "    Return:\n",
    "        identified user id, confidence and list of all segments\n",
    "        \n",
    "    \"\"\"\n",
    "    body = deepaffects.Audio.from_file(file_name=path_to_audio)\n",
    "\n",
    "    URL = 'https://proxy.api.deepaffects.com/audio/generic/api/v1/sync/diarization/identify'\n",
    "    payload = {\"content\": body.content, \n",
    "               \"sampleRate\": body.sample_rate, \n",
    "               \"encoding\": body.encoding, \n",
    "               \"languageCode\": body.language_code, \n",
    "               \"speakerIds\" : all_users}\n",
    "\n",
    "    headers = {\n",
    "        'content-type': 'application/json'\n",
    "    }\n",
    "    params = {\n",
    "        'apikey': deepaffects.configuration.api_key['apikey']\n",
    "    }\n",
    "\n",
    "    r = requests.post(URL, data=json.dumps(payload), headers = headers, params = params)\n",
    "    d = json.loads(r.content)\n",
    "    all_segments = d['segments']\n",
    "    \n",
    "    all_duration = 0\n",
    "    max_dur = 0\n",
    "    spoken_user = ''\n",
    "    for seg in all_segments:\n",
    "        cur_dur = seg['end'] - seg['start']\n",
    "        all_duration += cur_dur\n",
    "        if cur_dur > max_dur:\n",
    "            max_dur = cur_dur\n",
    "            spoken_user = seg['speaker_id']\n",
    "    \n",
    "    confidence = max_dur/all_duration\n",
    "    \n",
    "    return spoken_user, confidence, all_segments"
   ]
  },
  {
   "cell_type": "code",
   "execution_count": 18,
   "metadata": {
    "ExecuteTime": {
     "end_time": "2018-11-24T12:42:23.062094Z",
     "start_time": "2018-11-24T12:40:29.527988Z"
    },
    "scrolled": true
   },
   "outputs": [
    {
     "name": "stdout",
     "output_type": "stream",
     "text": [
      "['user3', 'user5', 'user4', 'user2', 'user1']\n",
      "Artem 0.6956521739130435\n",
      "Misha 0.5714285714285714\n",
      "Nikita 0.9142857142857143\n",
      "Misha 0.7619047619047619\n"
     ]
    }
   ],
   "source": [
    "# adding users\n",
    "if __name__ == '__main__':\n",
    "    usersid2name = {'user1':'Artem', 'user2':'Nikita', 'user3':'Misha', 'user4':'Ahan', 'user5': 'Venya',\n",
    "                   'UserNotIdentified': 'UserNotIdentified'}\n",
    "    \n",
    "#     status = add_user(['./enrol_voices/Artem1.m4a', \n",
    "#                        './enrol_voices/Artem2.m4a', \n",
    "#                        './enrol_voices/Artem3.m4a'], \n",
    "#                        'user1')\n",
    "#     status = add_user(['./enrol_voices/Nikita1.m4a', \n",
    "#                        './enrol_voices/Nikita2.m4a', \n",
    "#                        './enrol_voices/Nikita3.m4a'], \n",
    "#                        'user2')\n",
    "#     status = add_user(['./enrol_voices/Misha1.m4a', \n",
    "#                        './enrol_voices/Misha2.m4a', \n",
    "#                        './enrol_voices/Misha3.m4a'], \n",
    "#                        'user3')\n",
    "#     status = add_user(['./enrol_voices/Ahan1.m4a', \n",
    "#                        './enrol_voices/Ahan2.m4a', \n",
    "#                        './enrol_voices/Ahan3.m4a'], \n",
    "#                        'user4')\n",
    "#     status = add_user(['./enrol_voices/Venya1.m4a', \n",
    "#                        './enrol_voices/Venya2.m4a', \n",
    "#                        './enrol_voices/Venya3.m4a'], \n",
    "#                        'user5')\n",
    "\n",
    "    all_users = get_all_users()\n",
    "    print(all_users)\n",
    "    \n",
    "    #testing\n",
    "    ide_user, conf, all_seg = identify('./voice_samples/Tema2.m4a', users_ids_to_identify = all_users)\n",
    "    print(usersid2name[ide_user], conf)\n",
    "\n",
    "    ide_user, conf,all_seg = identify('./voice_samples/Ahan3.m4a', users_ids_to_identify = all_users)\n",
    "    print(usersid2name[ide_user], conf)\n",
    "\n",
    "    ide_user, conf,all_seg = identify('./voice_samples/Nikita2.m4a', users_ids_to_identify = all_users)\n",
    "    print(usersid2name[ide_user], conf)\n",
    "\n",
    "    ide_user, conf,all_seg = identify('./voice_samples/mish_2.m4a', users_ids_to_identify = all_users)\n",
    "    print(usersid2name[ide_user], conf)"
   ]
  }
 ],
 "metadata": {
  "kernelspec": {
   "display_name": "Python 3",
   "language": "python",
   "name": "python3"
  },
  "toc": {
   "nav_menu": {},
   "number_sections": true,
   "sideBar": true,
   "skip_h1_title": false,
   "title_cell": "Table of Contents",
   "title_sidebar": "Contents",
   "toc_cell": false,
   "toc_position": {},
   "toc_section_display": true,
   "toc_window_display": false
  },
  "varInspector": {
   "cols": {
    "lenName": 16,
    "lenType": 16,
    "lenVar": 40
   },
   "kernels_config": {
    "python": {
     "delete_cmd_postfix": "",
     "delete_cmd_prefix": "del ",
     "library": "var_list.py",
     "varRefreshCmd": "print(var_dic_list())"
    },
    "r": {
     "delete_cmd_postfix": ") ",
     "delete_cmd_prefix": "rm(",
     "library": "var_list.r",
     "varRefreshCmd": "cat(var_dic_list()) "
    }
   },
   "types_to_exclude": [
    "module",
    "function",
    "builtin_function_or_method",
    "instance",
    "_Feature"
   ],
   "window_display": false
  }
 },
 "nbformat": 4,
 "nbformat_minor": 2
}
